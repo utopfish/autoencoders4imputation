{
 "cells": [
  {
   "cell_type": "code",
   "execution_count": 1,
   "metadata": {},
   "outputs": [
    {
     "name": "stderr",
     "output_type": "stream",
     "text": [
      "Using TensorFlow backend.\n"
     ]
    }
   ],
   "source": [
    "import os\n",
    "import impyute\n",
    "from utils.read_file  import readNex,saveData,lableEncoder\n",
    "\n",
    "from logger import logger\n",
    "import time\n",
    "import tqdm\n",
    "from baseline.SOTABaselineKNN import  imputeMethodKNN as KNN\n",
    "from baseline.SOTABaselineMICE import  imputeMethodMICE as MICE\n",
    "from baseline.SOTABaselineRandom import  imputeMethodRandom as Random\n",
    "from baseline.SOTABaselineMedian import  imputeMethodMedain as Medain\n",
    "from baseline.SOTABaselineRF import imputeMethodMR as MR\n",
    "from baseline.myMethodTest import imputeMethod as TAI\n",
    "\n",
    "from utils.handle_missingdata import gene_missingdata, gene_missingdata_taxa_bias, gene_missingdata_chara_bias, \\\n",
    "    gene_missingdata_block_bias"
   ]
  },
  {
   "cell_type": "code",
   "execution_count": 3,
   "metadata": {},
   "outputs": [],
   "source": [
    "#原始含缺失数据集路径\n",
    "originDataPath=r'C:\\Users\\pro\\Desktop\\实验相关文档\\缺失插补建树全流程\\起始含缺失数据'\n",
    "#随机插补后无缺失数据集路径\n",
    "noMissingDataPath=r'C:\\Users\\pro\\Desktop\\实验相关文档\\缺失插补建树全流程\\随机插补无缺失数据'"
   ]
  },
  {
   "cell_type": "code",
   "execution_count": 5,
   "metadata": {},
   "outputs": [],
   "source": [
    "\n",
    "#生成模拟数据集\n",
    "for file in os.listdir(originDataPath):\n",
    "    data,missRow,speciesName,begin,end=readNex(os.path.join(originDataPath,file))\n",
    "    noMissingData = impyute.imputation.cs.random(data)\n",
    "    saveData(noMissingDataPath,file,speciesName,noMissingData,begin,end)"
   ]
  },
  {
   "cell_type": "code",
   "execution_count": 4,
   "metadata": {},
   "outputs": [
    {
     "name": "stderr",
     "output_type": "stream",
     "text": [
      "  0%|                                                                                                                                                     | 0/8 [00:00<?, ?it/s]2021-01-13 18:58:58.335 | INFO     | utils.wapper:wapper:15 - imputeMethodRandom：耗时0.040001869201660156\n",
      "2021-01-13 18:58:58.386 | INFO     | utils.wapper:wapper:15 - imputeMethodKNN：耗时0.044130563735961914\n",
      "2021-01-13 18:58:58.398 | INFO     | utils.wapper:wapper:15 - imputeMethodMedain：耗时0.0060007572174072266\n"
     ]
    },
    {
     "name": "stdout",
     "output_type": "stream",
     "text": [
      "Imputing row 1/76 with 5 missing, elapsed time: 0.004\n"
     ]
    },
    {
     "name": "stderr",
     "output_type": "stream",
     "text": [
      "2021-01-13 18:59:18.279 | INFO     | utils.wapper:wapper:15 - imputeMethodMICE：耗时19.874874591827393\n",
      "  0%|                                                                                                                                                     | 0/8 [00:20<?, ?it/s]\n"
     ]
    },
    {
     "ename": "NameError",
     "evalue": "name 'firstImputedMethod' is not defined",
     "output_type": "error",
     "traceback": [
      "\u001b[1;31m---------------------------------------------------------------------------\u001b[0m",
      "\u001b[1;31mNameError\u001b[0m                                 Traceback (most recent call last)",
      "\u001b[1;32m<ipython-input-4-31e20733f132>\u001b[0m in \u001b[0;36m<module>\u001b[1;34m\u001b[0m\n\u001b[0;32m     33\u001b[0m                 \u001b[1;32mfor\u001b[0m \u001b[0mautoMethod\u001b[0m \u001b[1;32min\u001b[0m \u001b[1;33m[\u001b[0m\u001b[1;34m'Autoencoder'\u001b[0m\u001b[1;33m]\u001b[0m\u001b[1;33m:\u001b[0m\u001b[1;33m\u001b[0m\u001b[1;33m\u001b[0m\u001b[0m\n\u001b[0;32m     34\u001b[0m \u001b[1;33m\u001b[0m\u001b[0m\n\u001b[1;32m---> 35\u001b[1;33m                     result,TAIimputedData= TAI(result=result, firstImputedMethod=firstImputedMethod,\n\u001b[0m\u001b[0;32m     36\u001b[0m                                  \u001b[0mfirstImputedData\u001b[0m\u001b[1;33m=\u001b[0m\u001b[0mfirstImputedData\u001b[0m\u001b[1;33m,\u001b[0m\u001b[1;33m\u001b[0m\u001b[1;33m\u001b[0m\u001b[0m\n\u001b[0;32m     37\u001b[0m                                  \u001b[0mloss\u001b[0m\u001b[1;33m=\u001b[0m\u001b[0mloss\u001b[0m\u001b[1;33m,\u001b[0m \u001b[0mautoMethod\u001b[0m\u001b[1;33m=\u001b[0m\u001b[0mautoMethod\u001b[0m\u001b[1;33m,\u001b[0m\u001b[1;33m\u001b[0m\u001b[1;33m\u001b[0m\u001b[0m\n",
      "\u001b[1;31mNameError\u001b[0m: name 'firstImputedMethod' is not defined"
     ]
    }
   ],
   "source": [
    "imputedDataPath=r'C:\\Users\\pro\\Desktop\\实验相关文档\\缺失插补建树全流程\\缺失插补结果'\n",
    "for file in tqdm.tqdm(os.listdir(noMissingDataPath)):\n",
    "    originData,missRow,speciesName,begin,end= readNex(os.path.join(noMissingDataPath,file))\n",
    "    for missPattern in ['normal']:\n",
    "        result = {}\n",
    "        for missRate in [0.05, 0.1, 0.2, 0.3, 0.4, 0.5]:\n",
    "            if missPattern == 'normal':\n",
    "                missData = gene_missingdata(rate=missRate, data=originData)\n",
    "            elif missPattern == 'taxa':\n",
    "                missData = gene_missingdata_taxa_bias(rate=missRate, data=originData)\n",
    "            elif missPattern == 'chara':\n",
    "                missData = gene_missingdata_chara_bias(rate=missRate, data=originData)\n",
    "            elif missPattern == 'block':\n",
    "                missData = gene_missingdata_block_bias(rate=missRate, data=originData)\n",
    "            else:\n",
    "                raise Exception(\"缺失模式错误，请在'normal','taxa','chara','block'中选择对应模式\")\n",
    "            saveData(noMissingDataPath,\"{}_{}\".format(file,str(missRate)),speciesName,missData,begin,end)\n",
    "            missData=lableEncoder(missData)\n",
    "            result, RandomImputedData = Random(result, originData, missData, missRate, missPattern, 'disperse')\n",
    "            saveData(os.path.join(imputedDataPath,\"Random\"),\"{}_{}\".format(file,str(missRate)),speciesName,RandomImputedData,begin,end)\n",
    "            \n",
    "            result, KNNImputedData = KNN(result, originData, missData, missRate, missPattern, 'disperse')\n",
    "            saveData(os.path.join(imputedDataPath,\"KNN\"),\"{}_{}\".format(file,str(missRate)),speciesName,KNNImputedData,begin,end)\n",
    "            \n",
    "            result,MedainImputedData = Medain(result, originData, missData, missRate, missPattern)\n",
    "            saveData(os.path.join(imputedDataPath,\"Medain\"),\"{}_{}\".format(file,str(missRate)),speciesName,MedainImputedData,begin,end)\n",
    "            \n",
    "            \n",
    "            start = time.time()\n",
    "            result, MICEImputedData = MICE(result, originData, missData, missRate, missPattern, 'disperse')\n",
    "            firstImputedData = MICEImputedData\n",
    "            for loss in ['MSELoss']:\n",
    "                for autoMethod in ['Autoencoder']:\n",
    "                    \n",
    "                    result,TAIimputedData= TAI(result=result, firstImputedMethod=firstImputedMethod,\n",
    "                                 firstImputedData=firstImputedData,\n",
    "                                 loss=loss, autoMethod=autoMethod,\n",
    "                                 originData=originData, missData=missData,\n",
    "                                 missRate=missRate, missPattern=missPattern)\n",
    "                    logger.info(\n",
    "                        \"改后{}-{}-{}训练耗时:{}\".format(firstImputedMethod, loss, autoMethod, time.time() - start))\n",
    "                    saveData(os.path.join(imputedDataPath,\"ours\"),\"{}_{}\".format(file,str(missRate)),speciesName,TAIimputedData,begin,end)\n",
    "    saveJson(result,\n",
    "             os.path.join(imputedDataPath,\"{}_{}_{}_{}.json\".format(\"allmethod\", missPattern, file,\n",
    "                                       datetime.datetime.now().strftime('%Y%m%d-%H%M%S'))))"
   ]
  },
  {
   "cell_type": "code",
   "execution_count": null,
   "metadata": {},
   "outputs": [],
   "source": []
  }
 ],
 "metadata": {
  "kernelspec": {
   "display_name": "Python 3",
   "language": "python",
   "name": "python3"
  },
  "language_info": {
   "codemirror_mode": {
    "name": "ipython",
    "version": 3
   },
   "file_extension": ".py",
   "mimetype": "text/x-python",
   "name": "python",
   "nbconvert_exporter": "python",
   "pygments_lexer": "ipython3",
   "version": "3.7.4"
  }
 },
 "nbformat": 4,
 "nbformat_minor": 2
}
