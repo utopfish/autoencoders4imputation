{
 "cells": [
  {
   "cell_type": "markdown",
   "metadata": {},
   "source": [
    "## 开始对ae代码在鸢尾花，mnist数据集上进行torch的调优"
   ]
  },
  {
   "cell_type": "code",
   "execution_count": 1,
   "metadata": {},
   "outputs": [],
   "source": [
    "import torch\n",
    "import torch.nn as nn\n",
    "import torch.nn.functional as F\n",
    "import torch.optim as optim\n",
    "from torchvision import datasets, transforms"
   ]
  },
  {
   "cell_type": "code",
   "execution_count": 2,
   "metadata": {},
   "outputs": [],
   "source": [
    "BATCH_SIZE=512 #大概需要2G的显存\n",
    "EPOCHS=20 # 总共训练批次\n",
    "DEVICE = torch.device(\"cuda\" if torch.cuda.is_available() else \"cpu\") # 让torch判断是否使用GPU，建议使用GPU环境，因为会快很多"
   ]
  },
  {
   "cell_type": "code",
   "execution_count": null,
   "metadata": {},
   "outputs": [
    {
     "name": "stdout",
     "output_type": "stream",
     "text": [
      "Downloading http://yann.lecun.com/exdb/mnist/train-images-idx3-ubyte.gz to data\\MNIST\\raw\\train-images-idx3-ubyte.gz\n"
     ]
    },
    {
     "name": "stderr",
     "output_type": "stream",
     "text": [
      "100.1%"
     ]
    },
    {
     "name": "stdout",
     "output_type": "stream",
     "text": [
      "Extracting data\\MNIST\\raw\\train-images-idx3-ubyte.gz to data\\MNIST\\raw\n",
      "Downloading http://yann.lecun.com/exdb/mnist/train-labels-idx1-ubyte.gz to data\\MNIST\\raw\\train-labels-idx1-ubyte.gz\n"
     ]
    },
    {
     "name": "stderr",
     "output_type": "stream",
     "text": [
      "85.1%"
     ]
    }
   ],
   "source": [
    "train_loader = torch.utils.data.DataLoader(\n",
    "        datasets.MNIST('data', train=True, download=True, \n",
    "                       transform=transforms.Compose([\n",
    "                           transforms.ToTensor(),\n",
    "                           transforms.Normalize((0.1307,), (0.3081,))\n",
    "                       ])),\n",
    "        batch_size=BATCH_SIZE, shuffle=True)"
   ]
  },
  {
   "cell_type": "code",
   "execution_count": null,
   "metadata": {},
   "outputs": [],
   "source": [
    "test_loader = torch.utils.data.DataLoader(\n",
    "        datasets.MNIST('data', train=False, transform=transforms.Compose([\n",
    "                           transforms.ToTensor(),\n",
    "                           transforms.Normalize((0.1307,), (0.3081,))\n",
    "                       ])),\n",
    "        batch_size=BATCH_SIZE, shuffle=True)"
   ]
  },
  {
   "cell_type": "code",
   "execution_count": null,
   "metadata": {},
   "outputs": [],
   "source": [
    "class Autoencoder(nn.Module):\n",
    "    def __init__(self, dim,theta):\n",
    "        super(Autoencoder, self).__init__()\n",
    "        self.dim = dim\n",
    "\n",
    "        self.drop_out = nn.Dropout(p=0.1)\n",
    "\n",
    "        self.encoder = nn.Sequential(\n",
    "            nn.Linear(dim + theta * 0, dim + theta * 1),\n",
    "            nn.Tanh(),\n",
    "            nn.Linear(dim + theta * 1, dim + theta * 2),\n",
    "            nn.Tanh(),\n",
    "            nn.Linear(dim + theta * 2, dim + theta * 3)\n",
    "        )\n",
    "\n",
    "        self.decoder = nn.Sequential(\n",
    "            nn.Linear(dim + theta * 3, dim + theta * 2),\n",
    "            nn.Tanh(),\n",
    "            nn.Linear(dim + theta * 2, dim + theta * 1),\n",
    "            nn.Tanh(),\n",
    "            nn.Linear(dim + theta * 1, dim + theta * 0)\n",
    "        )\n",
    "\n",
    "    def forward(self, x):\n",
    "        x = x.view(-1, self.dim)\n",
    "        x_missed = self.drop_out(x)\n",
    "\n",
    "        z = self.encoder(x_missed)\n",
    "        out = self.decoder(z)\n",
    "\n",
    "        out = out.view(-1, self.dim)\n",
    "\n",
    "        return out"
   ]
  },
  {
   "cell_type": "code",
   "execution_count": null,
   "metadata": {},
   "outputs": [],
   "source": [
    "def prepare_input_data(X):\n",
    "    X = np.asarray(X)\n",
    "        if X.dtype != \"f\" and X.dtype != \"d\":\n",
    "            X = X.astype(float)\n",
    "        missing_mask = np.isnan(X)\n",
    "        return X, missing_mask"
   ]
  },
  {
   "cell_type": "markdown",
   "metadata": {},
   "source": [
    "## 训练模型"
   ]
  },
  {
   "cell_type": "code",
   "execution_count": null,
   "metadata": {},
   "outputs": [],
   "source": [
    "with torch.no_grad():\n",
    "    model=Autoencoder().to(DEVICE) #模型实例化\n",
    "    model.train() #训练模式\n",
    "    epochs_num=10 #迭代次数\n",
    "    criterion = torch.nn.MSELoss()\n",
    "    optimizer = torch.optim.Adam(model.parameters(),lr=0.0001)\n",
    "    early_stop = False\n",
    "    \n",
    "    \n",
    "    for pass_num in range(epochs_num):\n",
    "        for i, batch_data in enumerate(train_loader):\n",
    "            inputs = batch_data.to(self.device)\n",
    "            inputs = inputs.resize_(self.batch_size, n_features)\n",
    "\n",
    "            dec = model(inputs)\n",
    "            loss = criterion(dec[training_mask], inputs[training_mask])\n",
    "            optimizer.zero_grad()\n",
    "            loss.backward()\n",
    "            optimizer.step()\n",
    "        print(\"epoch :{},loss:{}\".format(pass_num,loss.item()))\n",
    "        \n",
    "#             # loss=focal_loss(predict,label,0.8)\n",
    "#             loss=fluid.layers.cross_entropy(predict,label)\n",
    "#             avg_loss=fluid.layers.mean(loss)#获取loss值\n",
    "            \n",
    "#             acc=fluid.layers.accuracy(predict,label)#计算精度\n",
    "            \n",
    "#             if batch_id!=0 and batch_id%50==0:\n",
    "#                 Batch = Batch+50 \n",
    "#                 Batchs.append(Batch)\n",
    "#                 all_train_loss.append(avg_loss.numpy()[0])\n",
    "#                 all_train_accs.append(acc.numpy()[0])\n",
    "                \n",
    "            #print(\"train_pass:{},batch_id:{},train_loss:{},train_acc:{}\".format(pass_num,batch_id,avg_loss.numpy(),acc.numpy()))\n",
    "            \n",
    "#             avg_loss.backward()       \n",
    "#             opt.minimize(avg_loss)    #优化器对象的minimize方法对参数进行更新 \n",
    "#             model.clear_gradients()   #model.clear_gradients()来重置梯度\n",
    "#     fluid.save_dygraph(model.state_dict(),'MyCNN')#保存模型\n",
    "\n",
    "# draw_train_acc(Batchs,all_train_accs)\n",
    "# draw_train_loss(Batchs,all_train_loss)"
   ]
  }
 ],
 "metadata": {
  "kernelspec": {
   "display_name": "Python 3",
   "language": "python",
   "name": "python3"
  },
  "language_info": {
   "codemirror_mode": {
    "name": "ipython",
    "version": 3
   },
   "file_extension": ".py",
   "mimetype": "text/x-python",
   "name": "python",
   "nbconvert_exporter": "python",
   "pygments_lexer": "ipython3",
   "version": "3.7.4"
  }
 },
 "nbformat": 4,
 "nbformat_minor": 2
}
