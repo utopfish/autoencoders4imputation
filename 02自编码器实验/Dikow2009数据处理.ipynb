{
 "cells": [
  {
   "cell_type": "code",
   "execution_count": 8,
   "metadata": {},
   "outputs": [],
   "source": [
    "import sys\n",
    "sys.path.append('../')\n",
    "from utils.read_file import readNex,saveNex\n",
    "import numpy as np\n"
   ]
  },
  {
   "cell_type": "code",
   "execution_count": 12,
   "metadata": {},
   "outputs": [],
   "source": [
    "path=r'C:\\Users\\pro\\Desktop\\实验二自编码器建树\\古生物数据集测试\\暂存信息\\03_Dikow2009.nex'\n",
    "#删除一列数据\n",
    "savePath=r'C:\\Users\\pro\\Desktop\\实验二自编码器建树\\古生物数据集测试\\01起始数据集\\03_Dikow2009_减.nex'\n",
    "originData, missRow, speciesName, begin, end = readNex(path)\n",
    "originData=np.delete(originData, 191, axis=1)\n",
    "# originData=np.delete(originData, 116, axis=1)\n",
    "# originData=np.delete(originData, 86, axis=1)\n",
    "# originData=np.delete(originData, 83, axis=1)\n",
    "saveNex(savePath,speciesName, originData, begin, end)"
   ]
  },
  {
   "cell_type": "code",
   "execution_count": null,
   "metadata": {},
   "outputs": [],
   "source": []
  }
 ],
 "metadata": {
  "kernelspec": {
   "display_name": "Python 3",
   "language": "python",
   "name": "python3"
  },
  "language_info": {
   "codemirror_mode": {
    "name": "ipython",
    "version": 3
   },
   "file_extension": ".py",
   "mimetype": "text/x-python",
   "name": "python",
   "nbconvert_exporter": "python",
   "pygments_lexer": "ipython3",
   "version": "3.7.4"
  }
 },
 "nbformat": 4,
 "nbformat_minor": 2
}
