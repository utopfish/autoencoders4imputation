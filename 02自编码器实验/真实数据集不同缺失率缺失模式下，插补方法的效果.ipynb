{
 "cells": [
  {
   "cell_type": "code",
   "execution_count": 6,
   "metadata": {},
   "outputs": [],
   "source": [
    "import sys\n",
    "sys.path.append('../')\n",
    "import os\n",
    "import impyute\n",
    "from utils.read_file  import readNex,saveData,lableEncoder\n",
    "\n",
    "from logger import logger\n",
    "import time\n",
    "import datetime\n",
    "import tqdm\n",
    "from utils.tools import saveJson\n",
    "from baseline.SOTABaselineFixed import  imputeMethodFixed as Fixed\n",
    "from baseline.SOTABaselineKNN import  imputeMethodKNN as KNN\n",
    "from baseline.SOTABaselineMICE import  imputeMethodMICE as MICE\n",
    "from baseline.SOTABaselineRandom import  imputeMethodRandom as Random\n",
    "from baseline.SOTABaselineEM import  imputeMethodEM as EM\n",
    "from baseline.SOTABaselineMedian import  imputeMethodMedain as Medain\n",
    "from baseline.myMethod import imputeMethod as TAI\n",
    "from baseline.SOTABaselineRF import imputeMethodMR as MR\n",
    "\n",
    "from utils.handle_missingdata import gene_missingdata, gene_missingdata_taxa_bias, gene_missingdata_chara_bias, \\\n",
    "    gene_missingdata_block_bias\n"
   ]
  },
  {
   "cell_type": "markdown",
   "metadata": {},
   "source": [
    "# 生成模拟无缺失数据集"
   ]
  },
  {
   "cell_type": "code",
   "execution_count": 7,
   "metadata": {},
   "outputs": [],
   "source": [
    "originDataPath=r'C:\\Users\\pro\\Desktop\\实验二自编码器建树\\古生物数据集测试\\01起始数据集'\n",
    "noMissingDataPath=r'C:\\Users\\pro\\Desktop\\实验二自编码器建树\\古生物数据集测试\\02随机插补无缺失数据集'\n",
    "simDataPath=r'C:\\Users\\pro\\Desktop\\实验二自编码器建树\\古生物数据集测试\\03模拟缺失数据集'\n",
    "#生成模拟数据集\n",
    "# for file in os.listdir(originDataPath):\n",
    "#     data,missRow,speciesName,begin,end=readNex(os.path.join(originDataPath,file))\n",
    "#     noMissingData = impyute.imputation.cs.random(data)\n",
    "#     saveData(noMissingDataPath,file,speciesName,noMissingData,begin,end)"
   ]
  },
  {
   "cell_type": "code",
   "execution_count": null,
   "metadata": {},
   "outputs": [
    {
     "name": "stderr",
     "output_type": "stream",
     "text": [
      "  0%|                                                                                                                                          | 0/4 [00:00<?, ?it/s]2021-01-29 22:20:37.131 | INFO     | utils.wapper:wapper:15 - imputeMethodRandom：耗时0.010001182556152344\n"
     ]
    }
   ],
   "source": [
    "imputedDataPath = r'C:\\Users\\pro\\Desktop\\实验二自编码器建树\\古生物数据集测试\\04缺失插补结果'\n",
    "for file in tqdm.tqdm(os.listdir(noMissingDataPath)):\n",
    "    originData, missRow, speciesName, begin, end = readNex(os.path.join(noMissingDataPath, file))\n",
    "    for missPattern in ['normal','block',  'taxa', 'chara']:\n",
    "        result = {}\n",
    "        for missRate in [0.05, 0.1, 0.2, 0.3, 0.4, 0.5]:\n",
    "            if missPattern == 'normal':\n",
    "                missData = gene_missingdata(rate=missRate, data=originData)\n",
    "            elif missPattern == 'taxa':\n",
    "                missData = gene_missingdata_taxa_bias(rate=missRate, data=originData)\n",
    "            elif missPattern == 'chara':\n",
    "                missData = gene_missingdata_chara_bias(rate=missRate, data=originData)\n",
    "            elif missPattern == 'block':\n",
    "\n",
    "                missData = gene_missingdata_block_bias(rate=missRate, data=originData)\n",
    "            else:\n",
    "                raise Exception(\"缺失模式错误，请在'normal','taxa','chara','block'中选择对应模式\")\n",
    "            saveData(simDataPath, \"{}_{}_{}\".format(missPattern,str(missRate),file), speciesName, missData, begin, end)\n",
    "            missData = lableEncoder(missData)\n",
    "            result, RandomImputedData = Random(result, originData, missData, missRate, missPattern, 'disperse')\n",
    "            saveData(os.path.join(imputedDataPath, \"Random\"), \"{}_{}_{}\".format(missPattern,str(missRate),file), speciesName,\n",
    "                     RandomImputedData, begin, end)\n",
    "            result, MRImputedData = MR(result, originData, missData, missRate, missPattern)\n",
    "            saveData(os.path.join(imputedDataPath, \"MR\"), \"{}_{}_{}\".format(missPattern,str(missRate),file), speciesName,\n",
    "                     MRImputedData, begin, end)\n",
    "            \n",
    "            result, MedainImputedData = Medain(result, originData, missData, missRate, missPattern)\n",
    "            saveData(os.path.join(imputedDataPath, \"Medain\"), \"{}_{}_{}\".format(missPattern,str(missRate),file), speciesName,\n",
    "                     MedainImputedData, begin, end)\n",
    "            result, EMImputedData = EM(result, originData, missData, missRate, missPattern, 'disperse')\n",
    "            saveData(os.path.join(imputedDataPath, \"EM\"), \"{}_{}_{}\".format(missPattern,str(missRate),file), speciesName,\n",
    "                     EMImputedData, begin, end)\n",
    "            result, KNNImputedData = KNN(result, originData, missData, missRate, missPattern, 'disperse')\n",
    "            saveData(os.path.join(imputedDataPath, \"KNN\"), \"{}_{}_{}\".format(missPattern,str(missRate),file), speciesName,\n",
    "                     KNNImputedData, begin, end)\n",
    "            \n",
    "            result, FixedImputedData = Fixed(result, originData, missData, missRate, missPattern, 'disperse')\n",
    "            saveData(os.path.join(imputedDataPath, \"Fixed\"), \"{}_{}_{}\".format(missPattern,str(missRate),file), speciesName,\n",
    "                     KNNImputedData, begin, end)\n",
    "            \n",
    "            start = time.time()\n",
    "            result, MICEImputedData = MICE(result, originData, missData, missRate, missPattern, 'disperse')\n",
    "            firstImputedData = MICEImputedData\n",
    "            firstImputedMethod='knn'\n",
    "            for loss in ['MSELoss']:\n",
    "                for autoMethod in ['Autoencoder']:\n",
    "                    result, TAIimputedData = TAI(result=result, firstImputedMethod=firstImputedMethod,\n",
    "                                                 firstImputedData=firstImputedData,\n",
    "                                                 loss=loss, autoMethod=autoMethod,\n",
    "                                                 originData=originData, missData=missData,\n",
    "                                                 missRate=missRate, missPattern=missPattern,\n",
    "                                                 dataType='disperse')\n",
    "                    logger.info(\n",
    "                        \"改后{}-{}-{}训练耗时:{}\".format(firstImputedMethod, loss, autoMethod, time.time() - start))\n",
    "                    saveData(os.path.join(imputedDataPath, \"ours\"), \"{}_{}\".format(str(missRate),file), speciesName,\n",
    "                             TAIimputedData, begin, end)\n",
    "    saveJson(result,\n",
    "             os.path.join(imputedDataPath, \"{}_{}_{}_{}.json\".format(\"allmethod\", missPattern, file,\n",
    "                                                                     datetime.datetime.now().strftime(\n",
    "                                                                         '%Y%m%d-%H%M%S'))))"
   ]
  },
  {
   "cell_type": "code",
   "execution_count": null,
   "metadata": {},
   "outputs": [],
   "source": [
    "from utils.dataAnalysis import analysisMeanMain,analysisPlot\n",
    "analysisMeanMain(savePath, savePath)"
   ]
  }
 ],
 "metadata": {
  "kernelspec": {
   "display_name": "Python 3",
   "language": "python",
   "name": "python3"
  },
  "language_info": {
   "codemirror_mode": {
    "name": "ipython",
    "version": 3
   },
   "file_extension": ".py",
   "mimetype": "text/x-python",
   "name": "python",
   "nbconvert_exporter": "python",
   "pygments_lexer": "ipython3",
   "version": "3.7.4"
  }
 },
 "nbformat": 4,
 "nbformat_minor": 2
}
