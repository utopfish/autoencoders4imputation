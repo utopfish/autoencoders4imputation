{
 "cells": [
  {
   "cell_type": "code",
   "execution_count": 3,
   "metadata": {},
   "outputs": [],
   "source": [
    "import sys\n",
    " \n",
    "sys.path.append('../')\n",
    "import os\n",
    "from utils.transportData import sim2nex\n",
    "\n",
    "import time\n",
    "import datetime\n",
    "import tqdm\n",
    "from logger import logger\n",
    "from utils.tools import saveJson\n",
    "from utils.read_file import readNex,saveData\n",
    "from utils.handle_missingdata import gene_missingdata, gene_missingdata_taxa_bias, gene_missingdata_chara_bias, \\\n",
    "    gene_missingdata_block_bias"
   ]
  },
  {
   "cell_type": "markdown",
   "metadata": {},
   "source": [
    "# 将R生成模拟数据转化为nex格式"
   ]
  },
  {
   "cell_type": "code",
   "execution_count": 2,
   "metadata": {},
   "outputs": [],
   "source": [
    "##R生成文件路径，与保存路径\n",
    "path=r'C:\\Users\\pro\\Desktop\\实验一缺失模式对建设的影响研究\\模拟数据文件'\n",
    "for file in os.listdir(path):\n",
    "    if file.endswith(\"csv\"):\n",
    "        sim2nex(os.path.join(path,file),\n",
    "                os.path.join(path,file[:-3]+\"nex\"))"
   ]
  },
  {
   "cell_type": "markdown",
   "metadata": {},
   "source": [
    "# 以不同缺失比例，模式生成含缺失数据集"
   ]
  },
  {
   "cell_type": "code",
   "execution_count": 4,
   "metadata": {},
   "outputs": [
    {
     "name": "stderr",
     "output_type": "stream",
     "text": [
      "Processing trueTree.tre: 100%|██████████████████████████████████████████████████████████████████████████████████████| 9/9 [00:00<00:00, 10.44it/s]\n"
     ]
    }
   ],
   "source": [
    "path=r'C:\\Users\\pro\\Desktop\\实验一缺失模式对建设的影响研究\\模拟数据文件'\n",
    "savePath=r'C:\\Users\\pro\\Desktop\\实验一缺失模式对建设的影响研究\\缺失数据文件'\n",
    "pbar = tqdm.tqdm(os.listdir(path), desc='dirs')\n",
    "for file in pbar:\n",
    "    pbar.set_description(\"Processing %s\" % file)\n",
    "    if file.endswith('nex'):\n",
    "        originData,misssRow,speciesName,begin,end = readNex(os.path.join(path, file))\n",
    "        #for missPattern in ['normal']:\n",
    "        for missPattern in ['normal','block',  'taxa', 'chara']:\n",
    "            result = {}\n",
    "            for missRate in [0.00,0.05,0.10,0.15,0.20,0.25,0.30,0.35,0.40,0.45, 0.5,0.55,0.60,0.65,0.70,0.75]:\n",
    "                if missPattern == 'normal':\n",
    "                    missData = gene_missingdata(rate=missRate, data=originData)\n",
    "                elif missPattern == 'taxa':\n",
    "                    missData = gene_missingdata_taxa_bias(rate=missRate, data=originData)\n",
    "                elif missPattern == 'chara':\n",
    "                    missData = gene_missingdata_chara_bias(rate=missRate, data=originData)\n",
    "                elif missPattern == 'block':\n",
    "                    missData = gene_missingdata_block_bias(rate=missRate, data=originData)\n",
    "                else:\n",
    "                    raise Exception(\"缺失模式错误，请在'normal','taxa','chara','block'中选择对应模式\")\n",
    "                saveData(savePath,'{}_{}_{}.tnt'.format(missRate,missPattern, file[:-4]), speciesName, missData, begin, end)"
   ]
  },
  {
   "cell_type": "code",
   "execution_count": null,
   "metadata": {},
   "outputs": [],
   "source": []
  }
 ],
 "metadata": {
  "kernelspec": {
   "display_name": "Python 3",
   "language": "python",
   "name": "python3"
  },
  "language_info": {
   "codemirror_mode": {
    "name": "ipython",
    "version": 3
   },
   "file_extension": ".py",
   "mimetype": "text/x-python",
   "name": "python",
   "nbconvert_exporter": "python",
   "pygments_lexer": "ipython3",
   "version": "3.7.4"
  }
 },
 "nbformat": 4,
 "nbformat_minor": 2
}
