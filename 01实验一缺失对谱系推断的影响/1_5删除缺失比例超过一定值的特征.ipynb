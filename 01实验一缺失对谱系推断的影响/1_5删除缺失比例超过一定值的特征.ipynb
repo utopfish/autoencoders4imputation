{
 "cells": [
  {
   "cell_type": "code",
   "execution_count": 1,
   "metadata": {},
   "outputs": [],
   "source": [
    "import sys\n",
    "import os\n",
    "sys.path.append('../')\n",
    "from utils.handle_missingdata import deleteCharaterBymissRate"
   ]
  },
  {
   "cell_type": "code",
   "execution_count": 6,
   "metadata": {},
   "outputs": [],
   "source": [
    "originPath=r\"C:\\Users\\pro\\Desktop\\实验一缺失模式对建设的影响研究\\缺失数据文件\"\n",
    "savePath=r'C:\\Users\\pro\\Desktop\\实验一缺失模式对建设的影响研究\\1.4删除特征对结果的影响'\n",
    "names=[\"0.5_normal_50taxa100chara_sim\",\"0.5_chara_50taxa100chara_sim\",\"0.5_block_50taxa100chara_sim\",\"0.5_taxa_50taxa100chara_sim\"]\n",
    "for file in os.listdir(originPath):\n",
    "    for name in names:\n",
    "        if name in file:\n",
    "            for i in [0.0,0.1,0.2,0.3,0.4,0.5,0.6,0.7,0.8,0.9]:\n",
    "                savefile='{}_{}.tnt'.format(name,i)\n",
    "                deleteCharaterBymissRate(os.path.join(originPath,file),os.path.join(savePath,savefile),i)"
   ]
  },
  {
   "cell_type": "code",
   "execution_count": null,
   "metadata": {},
   "outputs": [],
   "source": []
  }
 ],
 "metadata": {
  "kernelspec": {
   "display_name": "Python 3",
   "language": "python",
   "name": "python3"
  },
  "language_info": {
   "codemirror_mode": {
    "name": "ipython",
    "version": 3
   },
   "file_extension": ".py",
   "mimetype": "text/x-python",
   "name": "python",
   "nbconvert_exporter": "python",
   "pygments_lexer": "ipython3",
   "version": "3.7.4"
  }
 },
 "nbformat": 4,
 "nbformat_minor": 2
}
