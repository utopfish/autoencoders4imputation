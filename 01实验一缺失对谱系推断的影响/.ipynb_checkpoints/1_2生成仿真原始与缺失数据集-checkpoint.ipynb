{
 "cells": [
  {
   "cell_type": "code",
   "execution_count": 1,
   "metadata": {},
   "outputs": [],
   "source": [
    "import sys\n",
    " \n",
    "sys.path.append('../')\n",
    "import os\n",
    "from utils.transportData import sim2nex"
   ]
  },
  {
   "cell_type": "code",
   "execution_count": null,
   "metadata": {},
   "outputs": [],
   "source": [
    "## 将R生成模拟数据转化为nex格式\n",
    "\n",
    "#R生成\n",
    "path=r'C:\\Users\\pro\\Desktop\\实验一缺失模式对建设的影响研究\\模拟数据文件'\n",
    "    for file in os.listdir(path):\n",
    "        if file.endswith(\"csv\"):\n",
    "            sim2nex(os.path.join(path,file),\n",
    "                    os.path.join(path,file[:-3]+\"nex\"))"
   ]
  }
 ],
 "metadata": {
  "kernelspec": {
   "display_name": "Python 3",
   "language": "python",
   "name": "python3"
  },
  "language_info": {
   "codemirror_mode": {
    "name": "ipython",
    "version": 3
   },
   "file_extension": ".py",
   "mimetype": "text/x-python",
   "name": "python",
   "nbconvert_exporter": "python",
   "pygments_lexer": "ipython3",
   "version": "3.7.4"
  }
 },
 "nbformat": 4,
 "nbformat_minor": 2
}
