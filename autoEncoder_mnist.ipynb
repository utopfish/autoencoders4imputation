{
 "cells": [
  {
   "cell_type": "markdown",
   "metadata": {},
   "source": [
    "## 开始对ae代码在鸢尾花，mnist数据集上进行torch的调优"
   ]
  },
  {
   "cell_type": "code",
   "execution_count": 1,
   "metadata": {},
   "outputs": [],
   "source": [
    "import torch\n",
    "import torch.nn as nn\n",
    "import torch.nn.functional as F\n",
    "import torch.optim as optim\n",
    "from torchvision import datasets, transforms\n",
    "from torch.autograd import Variable\n",
    "\n",
    "import os\n",
    "import numpy as np\n",
    "import seaborn as sns\n",
    "import matplotlib.pyplot as plt\n",
    "\n",
    "# plotting params\n",
    "%matplotlib inline\n",
    "plt.rcParams['font.size'] = 10\n",
    "plt.rcParams['axes.labelsize'] = 10\n",
    "plt.rcParams['axes.titlesize'] = 10\n",
    "plt.rcParams['xtick.labelsize'] = 8\n",
    "plt.rcParams['ytick.labelsize'] = 8\n",
    "plt.rcParams['legend.fontsize'] = 10\n",
    "plt.rcParams['figure.titlesize'] = 12\n",
    "plt.rcParams['figure.figsize'] = (8.0, 8.0)"
   ]
  },
  {
   "cell_type": "code",
   "execution_count": 2,
   "metadata": {},
   "outputs": [
    {
     "name": "stdout",
     "output_type": "stream",
     "text": [
      "cuda\n"
     ]
    }
   ],
   "source": [
    "BATCH_SIZE=512 #大概需要2G的显存\n",
    "EPOCHS=20 # 总共训练批次\n",
    "DEVICE = torch.device(\"cuda\" if torch.cuda.is_available() else \"cpu\") # 让torch判断是否使用GPU，建议使用GPU环境，因为会快很多\n",
    "print(DEVICE)"
   ]
  },
  {
   "cell_type": "code",
   "execution_count": 3,
   "metadata": {},
   "outputs": [],
   "source": [
    "train_loader = torch.utils.data.DataLoader(\n",
    "        datasets.MNIST('data', train=True, download=True, \n",
    "                       transform=transforms.Compose([\n",
    "                           transforms.ToTensor(),\n",
    "                           transforms.Normalize((0.1307,), (0.3081,))\n",
    "                       ])),\n",
    "        batch_size=BATCH_SIZE, shuffle=True)"
   ]
  },
  {
   "cell_type": "code",
   "execution_count": 4,
   "metadata": {},
   "outputs": [],
   "source": [
    "test_loader = torch.utils.data.DataLoader(\n",
    "        datasets.MNIST('data', train=False, transform=transforms.Compose([\n",
    "                           transforms.ToTensor(),\n",
    "                           transforms.Normalize((0.1307,), (0.3081,))\n",
    "                       ])),\n",
    "        batch_size=BATCH_SIZE, shuffle=True)"
   ]
  },
  {
   "cell_type": "markdown",
   "metadata": {},
   "source": [
    "## Helper Function"
   ]
  },
  {
   "cell_type": "code",
   "execution_count": 7,
   "metadata": {},
   "outputs": [],
   "source": [
    "def to_img(x):\n",
    "    x = x.data.numpy()\n",
    "    x = 0.5 * (x + 1)\n",
    "    x = np.clip(x, 0, 1)\n",
    "    x = x.reshape([-1, 28, 28])\n",
    "    return x\n",
    "\n",
    "def plot_reconstructions(model, save=True, name=None, conv=False, simple=False):\n",
    "    \"\"\"\n",
    "    Plot 10 reconstructions from the test set. The top row is the original\n",
    "    digits, the bottom is the decoder reconstruction.\n",
    "    \"\"\"\n",
    "    # encode then decode\n",
    "    data, _ = next(iter(test_loader))\n",
    "    if not conv:\n",
    "        data = data.view([-1, 784])\n",
    "    data = Variable(data, volatile=True)\n",
    "    true_imgs = data\n",
    "    encoded_imgs = model.encoder(data)\n",
    "    if simple:\n",
    "        encoded_imgs = F.relu(encoded_imgs)\n",
    "    decoded_imgs = model.decoder(encoded_imgs)\n",
    "    \n",
    "    true_imgs = to_img(true_imgs)\n",
    "    decoded_imgs = to_img(decoded_imgs)\n",
    "    \n",
    "    n = 10\n",
    "    plt.figure(figsize=(20, 4))\n",
    "    for i in range(n):\n",
    "        # display original\n",
    "        ax = plt.subplot(2, n, i + 1)\n",
    "        plt.imshow(true_imgs[i])\n",
    "        plt.gray()\n",
    "        ax.get_xaxis().set_visible(False)\n",
    "        ax.get_yaxis().set_visible(False)\n",
    "\n",
    "        # display reconstruction\n",
    "        ax = plt.subplot(2, n, i + 1 + n)\n",
    "        plt.imshow(decoded_imgs[i])\n",
    "        plt.gray()\n",
    "        ax.get_xaxis().set_visible(False)\n",
    "        ax.get_yaxis().set_visible(False)\n",
    "    if save:\n",
    "        plt.savefig('./plots/' + name + '.png', format='png', dpi=300)\n",
    "    plt.show()\n",
    "    \n",
    "\n",
    "def draw_train_acc(Batchs, train_accs):\n",
    "    title=\"training accs\"\n",
    "    plt.title(title, fontsize=24)\n",
    "    plt.xlabel(\"batch\", fontsize=14)\n",
    "    plt.ylabel(\"acc\", fontsize=14)\n",
    "    plt.plot(Batchs, train_accs, color='green', label='training accs')\n",
    "    plt.legend()\n",
    "    plt.grid()\n",
    "    plt.show()\n",
    "\n",
    "\n",
    "def draw_train_loss(Batchs, train_loss):\n",
    "    title=\"training loss\"\n",
    "    plt.title(title, fontsize=24)\n",
    "    plt.xlabel(\"batch\", fontsize=14)\n",
    "    plt.ylabel(\"loss\", fontsize=14)\n",
    "    plt.plot(Batchs, train_loss, color='red', label='training loss')\n",
    "    plt.legend()\n",
    "    plt.grid()\n",
    "    plt.show()\n",
    "def prepare_input_data(X):\n",
    "    X = np.asarray(X)\n",
    "    if X.dtype != \"f\" and X.dtype != \"d\":\n",
    "        X = X.astype(float)\n",
    "    missing_mask = np.isnan(X)\n",
    "    return X, missing_mask\n",
    "def l1_penalty(var):\n",
    "    return torch.abs(var).sum()"
   ]
  },
  {
   "cell_type": "code",
   "execution_count": 29,
   "metadata": {},
   "outputs": [],
   "source": [
    "class Autoencoder(nn.Module):\n",
    "    def __init__(self, dim,theta):\n",
    "        super(Autoencoder, self).__init__()\n",
    "        self.dim = dim\n",
    "\n",
    "        self.drop_out = nn.Dropout(p=0.1)\n",
    "\n",
    "        self.encoder = nn.Sequential(\n",
    "            nn.Linear(dim + theta * 0, dim + theta * 1),\n",
    "#             nn.Tanh(),\n",
    "            nn.LeakyReLU(),\n",
    "            nn.Linear(dim + theta * 1, dim + theta * 2),\n",
    "            nn.LeakyReLU(),\n",
    "            nn.Linear(dim + theta * 2, dim + theta * 3),\n",
    "        )\n",
    "\n",
    "        self.decoder = nn.Sequential(\n",
    "            nn.Linear(dim + theta * 3, dim + theta * 2),\n",
    "            nn.LeakyReLU(),\n",
    "            nn.Linear(dim + theta * 2, dim + theta * 1),\n",
    "            nn.LeakyReLU(),\n",
    "            nn.Linear(dim + theta * 1, dim + theta * 0)\n",
    "        )\n",
    "\n",
    "    def forward(self, x):\n",
    "        x = x.view(-1, self.dim)\n",
    "        x_missed = self.drop_out(x)\n",
    "\n",
    "        z = self.encoder(x_missed)\n",
    "        out = self.decoder(z)\n",
    "\n",
    "        out = out.view(-1, self.dim)\n",
    "\n",
    "        return out,z"
   ]
  },
  {
   "cell_type": "code",
   "execution_count": 32,
   "metadata": {},
   "outputs": [],
   "source": [
    "n_features= 784\n",
    "theta=100\n",
    "model=Autoencoder(dim=n_features,theta=theta)\n",
    "optimizer = optim.Adam(model.parameters(),lr = 0.00003)"
   ]
  },
  {
   "cell_type": "code",
   "execution_count": 33,
   "metadata": {},
   "outputs": [
    {
     "name": "stdout",
     "output_type": "stream",
     "text": [
      "Train Epoch: 1 [0/60000 (0%)]\tLoss: 1.001537\n",
      "Train Epoch: 1 [25600/60000 (42%)]\tLoss: 0.926752\n",
      "Train Epoch: 1 [51200/60000 (85%)]\tLoss: 0.718541\n",
      "Train Epoch: 2 [0/60000 (0%)]\tLoss: 0.701287\n",
      "Train Epoch: 2 [25600/60000 (42%)]\tLoss: 0.664450\n",
      "Train Epoch: 2 [51200/60000 (85%)]\tLoss: 0.625140\n",
      "Train Epoch: 3 [0/60000 (0%)]\tLoss: 0.628784\n",
      "Train Epoch: 3 [25600/60000 (42%)]\tLoss: 0.568480\n",
      "Train Epoch: 3 [51200/60000 (85%)]\tLoss: 0.509321\n",
      "Train Epoch: 4 [0/60000 (0%)]\tLoss: 0.483131\n",
      "Train Epoch: 4 [25600/60000 (42%)]\tLoss: 0.448114\n",
      "Train Epoch: 4 [51200/60000 (85%)]\tLoss: 0.412001\n",
      "Train Epoch: 5 [0/60000 (0%)]\tLoss: 0.410734\n",
      "Train Epoch: 5 [25600/60000 (42%)]\tLoss: 0.393124\n",
      "Train Epoch: 5 [51200/60000 (85%)]\tLoss: 0.369336\n",
      "Train Epoch: 6 [0/60000 (0%)]\tLoss: 0.365335\n",
      "Train Epoch: 6 [25600/60000 (42%)]\tLoss: 0.346743\n",
      "Train Epoch: 6 [51200/60000 (85%)]\tLoss: 0.331171\n",
      "Train Epoch: 7 [0/60000 (0%)]\tLoss: 0.324491\n",
      "Train Epoch: 7 [25600/60000 (42%)]\tLoss: 0.298099\n",
      "Train Epoch: 7 [51200/60000 (85%)]\tLoss: 0.296258\n",
      "Train Epoch: 8 [0/60000 (0%)]\tLoss: 0.294985\n",
      "Train Epoch: 8 [25600/60000 (42%)]\tLoss: 0.282169\n",
      "Train Epoch: 8 [51200/60000 (85%)]\tLoss: 0.272838\n",
      "Train Epoch: 9 [0/60000 (0%)]\tLoss: 0.275272\n",
      "Train Epoch: 9 [25600/60000 (42%)]\tLoss: 0.267985\n",
      "Train Epoch: 9 [51200/60000 (85%)]\tLoss: 0.257670\n",
      "Train Epoch: 10 [0/60000 (0%)]\tLoss: 0.255844\n",
      "Train Epoch: 10 [25600/60000 (42%)]\tLoss: 0.251208\n",
      "Train Epoch: 10 [51200/60000 (85%)]\tLoss: 0.244500\n",
      "Train Epoch: 11 [0/60000 (0%)]\tLoss: 0.239988\n",
      "Train Epoch: 11 [25600/60000 (42%)]\tLoss: 0.231496\n",
      "Train Epoch: 11 [51200/60000 (85%)]\tLoss: 0.233126\n",
      "Train Epoch: 12 [0/60000 (0%)]\tLoss: 0.223733\n",
      "Train Epoch: 12 [25600/60000 (42%)]\tLoss: 0.232117\n",
      "Train Epoch: 12 [51200/60000 (85%)]\tLoss: 0.221446\n",
      "Train Epoch: 13 [0/60000 (0%)]\tLoss: 0.223038\n",
      "Train Epoch: 13 [25600/60000 (42%)]\tLoss: 0.209269\n",
      "Train Epoch: 13 [51200/60000 (85%)]\tLoss: 0.210504\n",
      "Train Epoch: 14 [0/60000 (0%)]\tLoss: 0.212705\n",
      "Train Epoch: 14 [25600/60000 (42%)]\tLoss: 0.208835\n",
      "Train Epoch: 14 [51200/60000 (85%)]\tLoss: 0.203035\n",
      "Train Epoch: 15 [0/60000 (0%)]\tLoss: 0.205755\n",
      "Train Epoch: 15 [25600/60000 (42%)]\tLoss: 0.197673\n",
      "Train Epoch: 15 [51200/60000 (85%)]\tLoss: 0.195624\n",
      "Train Epoch: 16 [0/60000 (0%)]\tLoss: 0.194418\n",
      "Train Epoch: 16 [25600/60000 (42%)]\tLoss: 0.192554\n",
      "Train Epoch: 16 [51200/60000 (85%)]\tLoss: 0.191297\n",
      "Train Epoch: 17 [0/60000 (0%)]\tLoss: 0.189788\n",
      "Train Epoch: 17 [25600/60000 (42%)]\tLoss: 0.182238\n",
      "Train Epoch: 17 [51200/60000 (85%)]\tLoss: 0.182605\n",
      "Train Epoch: 18 [0/60000 (0%)]\tLoss: 0.182643\n",
      "Train Epoch: 18 [25600/60000 (42%)]\tLoss: 0.177783\n",
      "Train Epoch: 18 [51200/60000 (85%)]\tLoss: 0.180802\n",
      "Train Epoch: 19 [0/60000 (0%)]\tLoss: 0.175650\n",
      "Train Epoch: 19 [25600/60000 (42%)]\tLoss: 0.175404\n",
      "Train Epoch: 19 [51200/60000 (85%)]\tLoss: 0.173106\n",
      "Train Epoch: 20 [0/60000 (0%)]\tLoss: 0.173157\n",
      "Train Epoch: 20 [25600/60000 (42%)]\tLoss: 0.176215\n",
      "Train Epoch: 20 [51200/60000 (85%)]\tLoss: 0.168869\n"
     ]
    },
    {
     "data": {
      "image/png": "[encoded data removed]",
      "text/plain": [
       "<Figure size 432x288 with 1 Axes>"
      ]
     },
     "metadata": {
      "needs_background": "light"
     },
     "output_type": "display_data"
    }
   ],
   "source": [
    "num_epochs = 20\n",
    "Batch=0\n",
    "Batchs=[]\n",
    "all_train_accs=[]\n",
    "all_train_loss=[]\n",
    "sparsity=False\n",
    "l1_weight=1e-5\n",
    "for epoch in range(1,  num_epochs + 1):\n",
    "    for batch_idx, (data, _) in enumerate(train_loader):\n",
    "        data = Variable(data.view([-1, 784]))\n",
    "        optimizer.zero_grad()\n",
    "\n",
    "        # enforcing sparsity with l1 reg\n",
    "        if sparsity:\n",
    "            decoder_out,encoder_out = model(data)\n",
    "            mse_loss = F.mse_loss(decoder_out, data)\n",
    "            l1_reg = l1_weight * l1_penalty(encoder_out)\n",
    "            loss = mse_loss + l1_reg\n",
    "        else:\n",
    "            output,_ = model(data)\n",
    "            #loss = F.binary_cross_entropy_with_logits(output, data)\n",
    "            loss = F.mse_loss(output, data)\n",
    "        if batch_idx!=0 and batch_idx%50==0:\n",
    "                Batch = Batch+50 \n",
    "                Batchs.append(Batch)\n",
    "                all_train_loss.append(loss.item())\n",
    "        loss.backward()\n",
    "        optimizer.step()\n",
    "        if batch_idx % 50 == 0:\n",
    "            print('Train Epoch: {} [{}/{} ({:.0f}%)]\\tLoss: {:.6f}'.format(\n",
    "                epoch, batch_idx * len(data), len(train_loader.dataset),\n",
    "                       100. * batch_idx / len(train_loader), loss.item()))\n",
    "torch.save(model.state_dict(),\"MyAE\")\n",
    "draw_train_loss(Batchs,all_train_loss)"
   ]
  },
  {
   "cell_type": "markdown",
   "metadata": {},
   "source": [
    "## 测试记录  \n",
    "baseline:\n",
    "mse,Adam，等使用默认参数，\n",
    "epoch设置40，一直在震荡，勉强收敛了 测试集loss为0.022181936260312795\n",
    "epoch设置100，测试集loss为0.02217748239636421，提升epoch次数几乎无效了\n",
    "\n",
    "theta为100,tanh,epoch为20，loss为0.048489\n",
    "relu,theta为10，0.062429\n",
    "leakrelu，theta为10，0.058004\n",
    "leakrelu，theta为100，0.050377935729920865\n",
    "leakrelu，theta为100,epoch20,网络加到四层,loss0.084215  \n",
    "保持不变，改了lr = 0.00001，Loss: 0.168869"
   ]
  },
  {
   "cell_type": "markdown",
   "metadata": {},
   "source": [
    "## 测试模型"
   ]
  },
  {
   "cell_type": "code",
   "execution_count": 24,
   "metadata": {},
   "outputs": [
    {
     "name": "stdout",
     "output_type": "stream",
     "text": [
      "0.050377935729920865\n"
     ]
    }
   ],
   "source": [
    "accs = []\n",
    "model = Autoencoder(dim=n_features,theta=theta)\n",
    "model.load_state_dict(torch.load(\"MyAE\"))#加载模型参数\n",
    "\n",
    "model.eval() #训练模式\n",
    "\n",
    "for batch_idx, (data, _) in enumerate(test_loader):#测试集\n",
    "    data = Variable(data.view([-1, 784]))\n",
    "    optimizer.zero_grad()\n",
    "    output,_ = model(data)\n",
    "    #loss = F.binary_cross_entropy_with_logits(output, data)\n",
    "    loss = F.mse_loss(output, data)\n",
    "    accs.append(loss.item())\n",
    "avg_acc = np.mean(accs)\n",
    "print(avg_acc)"
   ]
  },
  {
   "cell_type": "code",
   "execution_count": null,
   "metadata": {},
   "outputs": [],
   "source": []
  }
 ],
 "metadata": {
  "kernelspec": {
   "display_name": "Python 3",
   "language": "python",
   "name": "python3"
  },
  "language_info": {
   "codemirror_mode": {
    "name": "ipython",
    "version": 3
   },
   "file_extension": ".py",
   "mimetype": "text/x-python",
   "name": "python",
   "nbconvert_exporter": "python",
   "pygments_lexer": "ipython3",
   "version": "3.7.4"
  }
 },
 "nbformat": 4,
 "nbformat_minor": 2
}
